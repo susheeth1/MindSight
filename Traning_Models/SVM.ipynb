{
 "cells": [
  {
   "cell_type": "code",
   "execution_count": 1,
   "metadata": {},
   "outputs": [
    {
     "name": "stderr",
     "output_type": "stream",
     "text": [
      "<>:4: SyntaxWarning: invalid escape sequence '\\C'\n",
      "<>:4: SyntaxWarning: invalid escape sequence '\\C'\n",
      "C:\\Users\\Susheeth G\\AppData\\Local\\Temp\\ipykernel_19204\\4180196248.py:4: SyntaxWarning: invalid escape sequence '\\C'\n",
      "  file_path = \"C:\\Capstone_project_(8th sem)\\MindSight\\Dataset\\DASS.csv\"\n"
     ]
    },
    {
     "name": "stdout",
     "output_type": "stream",
     "text": [
      "<class 'pandas.core.frame.DataFrame'>\n",
      "RangeIndex: 1812 entries, 0 to 1811\n",
      "Data columns (total 33 columns):\n",
      " #   Column            Non-Null Count  Dtype\n",
      "---  ------            --------------  -----\n",
      " 0   Q1_1              1812 non-null   int64\n",
      " 1   Q1_2              1812 non-null   int64\n",
      " 2   Q1_3              1812 non-null   int64\n",
      " 3   Q1_4              1812 non-null   int64\n",
      " 4   Q1_5              1812 non-null   int64\n",
      " 5   Q1_6              1812 non-null   int64\n",
      " 6   Q3_1_S1           1812 non-null   int64\n",
      " 7   Q3_2_S2           1812 non-null   int64\n",
      " 8   Q3_3_S3           1812 non-null   int64\n",
      " 9   Q3_4_S4           1812 non-null   int64\n",
      " 10  Q3_5_S5           1812 non-null   int64\n",
      " 11  Q3_6_S6           1812 non-null   int64\n",
      " 12  Q3_7_S7           1812 non-null   int64\n",
      " 13  Stress_Score      1812 non-null   int64\n",
      " 14  Stress_Level      1812 non-null   int64\n",
      " 15  Q3_8_A1           1812 non-null   int64\n",
      " 16  Q3_9_A2           1812 non-null   int64\n",
      " 17  Q3_10_A3          1812 non-null   int64\n",
      " 18  Q3_11_A4          1812 non-null   int64\n",
      " 19  Q3_12_A5          1812 non-null   int64\n",
      " 20  Q3_13_A6          1812 non-null   int64\n",
      " 21  Q3_14_A7          1812 non-null   int64\n",
      " 22  Anxiety_Score     1812 non-null   int64\n",
      " 23  Anxiety_Level     1812 non-null   int64\n",
      " 24  Q3_15_D1          1812 non-null   int64\n",
      " 25  Q3_16_D2          1812 non-null   int64\n",
      " 26  Q3_17_D3          1812 non-null   int64\n",
      " 27  Q3_18_D4          1812 non-null   int64\n",
      " 28  Q3_19_D5          1812 non-null   int64\n",
      " 29  Q3_20_D6          1812 non-null   int64\n",
      " 30  Q3_21_D7          1812 non-null   int64\n",
      " 31  Depression_Score  1812 non-null   int64\n",
      " 32  Depression_Level  1812 non-null   int64\n",
      "dtypes: int64(33)\n",
      "memory usage: 467.3 KB\n"
     ]
    },
    {
     "data": {
      "text/plain": [
       "(None,\n",
       "    Q1_1  Q1_2  Q1_3  Q1_4  Q1_5  Q1_6  Q3_1_S1  Q3_2_S2  Q3_3_S3  Q3_4_S4  \\\n",
       " 0    21     2     0     4     4     1        3        3        3        3   \n",
       " 1    18     2     0     4     4     1        3        3        3        3   \n",
       " 2    40     2     1     2     1     1        3        3        1        2   \n",
       " 3    24     1     0     4     2     0        3        3        1        2   \n",
       " 4    50     1     1     2     2     0        3        3        3        2   \n",
       " \n",
       "    ...  Anxiety_Level  Q3_15_D1  Q3_16_D2  Q3_17_D3  Q3_18_D4  Q3_19_D5  \\\n",
       " 0  ...              3         0         3         3         2         3   \n",
       " 1  ...              2         0         2         3         0         0   \n",
       " 2  ...              5         2         1         1         2         2   \n",
       " 3  ...              5         2         1         1         2         2   \n",
       " 4  ...              2         1         0         0         1         2   \n",
       " \n",
       "    Q3_20_D6  Q3_21_D7  Depression_Score  Depression_Level  \n",
       " 0         3         3                17                 5  \n",
       " 1         2         0                 7                 3  \n",
       " 2         1         2                11                 4  \n",
       " 3         1         2                11                 4  \n",
       " 4         0         0                 4                 1  \n",
       " \n",
       " [5 rows x 33 columns])"
      ]
     },
     "execution_count": 1,
     "metadata": {},
     "output_type": "execute_result"
    }
   ],
   "source": [
    "import pandas as pd\n",
    "\n",
    "# Load the dataset\n",
    "file_path = \"C:\\Capstone_project_(8th sem)\\MindSight\\Dataset\\DASS.csv\"\n",
    "df = pd.read_csv(file_path)\n",
    "\n",
    "# Display basic info and first few rows\n",
    "df_info = df.info()\n",
    "df_head = df.head()\n",
    "\n",
    "df_info, df_head"
   ]
  },
  {
   "cell_type": "code",
   "execution_count": 2,
   "metadata": {},
   "outputs": [],
   "source": [
    "# Step 1: Remove duplicates\n",
    "df_cleaned = df.drop_duplicates()"
   ]
  },
  {
   "cell_type": "code",
   "execution_count": 3,
   "metadata": {},
   "outputs": [
    {
     "name": "stderr",
     "output_type": "stream",
     "text": [
      "C:\\Users\\Susheeth G\\AppData\\Local\\Temp\\ipykernel_19204\\3704412488.py:3: FutureWarning: DataFrame.applymap has been deprecated. Use DataFrame.map instead.\n",
      "  valid_range_check = df_cleaned[question_cols].applymap(lambda x: 0 <= x <= 3).all()\n"
     ]
    }
   ],
   "source": [
    "# Step 2: Validate that all mental health question responses are in range 0–3\n",
    "question_cols = [col for col in df.columns if col.startswith(\"Q3_\")]\n",
    "valid_range_check = df_cleaned[question_cols].applymap(lambda x: 0 <= x <= 3).all()"
   ]
  },
  {
   "cell_type": "code",
   "execution_count": 4,
   "metadata": {},
   "outputs": [],
   "source": [
    "# Step 3: Check if any invalid entries exist\n",
    "invalid_entries = ~valid_range_check"
   ]
  },
  {
   "cell_type": "code",
   "execution_count": 5,
   "metadata": {},
   "outputs": [
    {
     "data": {
      "text/plain": [
       "(65, [])"
      ]
     },
     "execution_count": 5,
     "metadata": {},
     "output_type": "execute_result"
    }
   ],
   "source": [
    "# Step 4: Report the number of duplicates removed and any invalid entries\n",
    "duplicates_removed = df.shape[0] - df_cleaned.shape[0]\n",
    "invalid_questions = valid_range_check[~valid_range_check].index.tolist()\n",
    "\n",
    "duplicates_removed, invalid_questions"
   ]
  },
  {
   "cell_type": "code",
   "execution_count": 6,
   "metadata": {},
   "outputs": [],
   "source": [
    "from sklearn.preprocessing import StandardScaler\n",
    "\n",
    "# Step 1: Define feature columns\n",
    "# Use only the Q3_* question columns (21 features) for prediction\n",
    "stress_cols = [f\"Q3_{i}_S{i}\" for i in range(1, 8)]\n",
    "anxiety_cols = [f\"Q3_{i}_A{i-7}\" for i in range(8, 15)]\n",
    "depression_cols = [f\"Q3_{i}_D{i-14}\" for i in range(15, 22)]"
   ]
  },
  {
   "cell_type": "code",
   "execution_count": 7,
   "metadata": {},
   "outputs": [],
   "source": [
    "# Step 2: Extract features and labels for each category\n",
    "X_stress = df_cleaned[stress_cols]\n",
    "y_stress = df_cleaned[\"Stress_Level\"]\n",
    "\n",
    "X_anxiety = df_cleaned[anxiety_cols]\n",
    "y_anxiety = df_cleaned[\"Anxiety_Level\"]\n",
    "\n",
    "X_depression = df_cleaned[depression_cols]\n",
    "y_depression = df_cleaned[\"Depression_Level\"]"
   ]
  },
  {
   "cell_type": "code",
   "execution_count": 8,
   "metadata": {},
   "outputs": [],
   "source": [
    "# Step 3: Scale features\n",
    "scaler = StandardScaler()\n",
    "X_stress_scaled = scaler.fit_transform(X_stress)\n",
    "X_anxiety_scaled = scaler.fit_transform(X_anxiety)\n",
    "X_depression_scaled = scaler.fit_transform(X_depression)\n"
   ]
  },
  {
   "cell_type": "code",
   "execution_count": 9,
   "metadata": {},
   "outputs": [
    {
     "data": {
      "text/plain": [
       "((1747, 7), (1747, 7), (1747, 7))"
      ]
     },
     "execution_count": 9,
     "metadata": {},
     "output_type": "execute_result"
    }
   ],
   "source": [
    "# Confirm shapes and preview scaled data\n",
    "X_stress_scaled.shape, X_anxiety_scaled.shape, X_depression_scaled.shape"
   ]
  },
  {
   "cell_type": "code",
   "execution_count": 10,
   "metadata": {},
   "outputs": [
    {
     "data": {
      "text/plain": [
       "({'1': {'precision': 0.9932885906040269,\n",
       "   'recall': 1.0,\n",
       "   'f1-score': 0.9966329966329966,\n",
       "   'support': 148.0},\n",
       "  '2': {'precision': 0.9736842105263158,\n",
       "   'recall': 0.9736842105263158,\n",
       "   'f1-score': 0.9736842105263158,\n",
       "   'support': 76.0},\n",
       "  '3': {'precision': 0.9764705882352941,\n",
       "   'recall': 0.9540229885057471,\n",
       "   'f1-score': 0.9651162790697675,\n",
       "   'support': 87.0},\n",
       "  '4': {'precision': 0.9459459459459459,\n",
       "   'recall': 0.9722222222222222,\n",
       "   'f1-score': 0.958904109589041,\n",
       "   'support': 36.0},\n",
       "  '5': {'precision': 1.0, 'recall': 1.0, 'f1-score': 1.0, 'support': 3.0},\n",
       "  'accuracy': 0.98,\n",
       "  'macro avg': {'precision': 0.9778778670623165,\n",
       "   'recall': 0.979985884250857,\n",
       "   'f1-score': 0.978867519163624,\n",
       "   'support': 350.0},\n",
       "  'weighted avg': {'precision': 0.9800391618283446,\n",
       "   'recall': 0.98,\n",
       "   'f1-score': 0.9799638506455963,\n",
       "   'support': 350.0}},\n",
       " {'1': {'precision': 1.0,\n",
       "   'recall': 0.984375,\n",
       "   'f1-score': 0.9921259842519685,\n",
       "   'support': 128.0},\n",
       "  '2': {'precision': 0.972972972972973,\n",
       "   'recall': 0.9863013698630136,\n",
       "   'f1-score': 0.9795918367346939,\n",
       "   'support': 73.0},\n",
       "  '3': {'precision': 0.9864864864864865,\n",
       "   'recall': 0.9864864864864865,\n",
       "   'f1-score': 0.9864864864864865,\n",
       "   'support': 74.0},\n",
       "  '4': {'precision': 0.8909090909090909,\n",
       "   'recall': 0.98,\n",
       "   'f1-score': 0.9333333333333333,\n",
       "   'support': 50.0},\n",
       "  '5': {'precision': 0.9523809523809523,\n",
       "   'recall': 0.8,\n",
       "   'f1-score': 0.8695652173913043,\n",
       "   'support': 25.0},\n",
       "  'accuracy': 0.9714285714285714,\n",
       "  'macro avg': {'precision': 0.9605499005499005,\n",
       "   'recall': 0.9474325712699001,\n",
       "   'f1-score': 0.9522205716395573,\n",
       "   'support': 350.0},\n",
       "  'weighted avg': {'precision': 0.9725200153771583,\n",
       "   'recall': 0.9714285714285714,\n",
       "   'f1-score': 0.9711660776209541,\n",
       "   'support': 350.0}},\n",
       " {'1': {'precision': 1.0, 'recall': 1.0, 'f1-score': 1.0, 'support': 123.0},\n",
       "  '2': {'precision': 1.0,\n",
       "   'recall': 0.9871794871794872,\n",
       "   'f1-score': 0.9935483870967742,\n",
       "   'support': 78.0},\n",
       "  '3': {'precision': 0.967741935483871,\n",
       "   'recall': 0.967741935483871,\n",
       "   'f1-score': 0.967741935483871,\n",
       "   'support': 62.0},\n",
       "  '4': {'precision': 0.9180327868852459,\n",
       "   'recall': 0.9032258064516129,\n",
       "   'f1-score': 0.9105691056910569,\n",
       "   'support': 62.0},\n",
       "  '5': {'precision': 0.8148148148148148,\n",
       "   'recall': 0.88,\n",
       "   'f1-score': 0.8461538461538461,\n",
       "   'support': 25.0},\n",
       "  'accuracy': 0.9657142857142857,\n",
       "  'macro avg': {'precision': 0.9401179074367864,\n",
       "   'recall': 0.9476294458229942,\n",
       "   'f1-score': 0.9436026548851096,\n",
       "   'support': 350.0},\n",
       "  'weighted avg': {'precision': 0.9665382947350161,\n",
       "   'recall': 0.9657142857142857,\n",
       "   'f1-score': 0.966016871143543,\n",
       "   'support': 350.0}})"
      ]
     },
     "execution_count": 10,
     "metadata": {},
     "output_type": "execute_result"
    }
   ],
   "source": [
    "from sklearn.svm import SVC\n",
    "from sklearn.metrics import classification_report, confusion_matrix\n",
    "from sklearn.model_selection import train_test_split\n",
    "\n",
    "# Function to train and evaluate SVM model\n",
    "def train_svm(X, y, label):\n",
    "    # Split the data\n",
    "    X_train, X_test, y_train, y_test = train_test_split(X, y, test_size=0.2, random_state=42)\n",
    "    \n",
    "    # Train the model\n",
    "    model = SVC(kernel='rbf', C=1, gamma='scale')\n",
    "    model.fit(X_train, y_train)\n",
    "    \n",
    "    # Predict and evaluate\n",
    "    y_pred = model.predict(X_test)\n",
    "    report = classification_report(y_test, y_pred, output_dict=True)\n",
    "    matrix = confusion_matrix(y_test, y_pred)\n",
    "    \n",
    "    return model, report, matrix\n",
    "\n",
    "# Train and evaluate SVM for each mental health category\n",
    "stress_model, stress_report, stress_matrix = train_svm(X_stress_scaled, y_stress, \"Stress\")\n",
    "anxiety_model, anxiety_report, anxiety_matrix = train_svm(X_anxiety_scaled, y_anxiety, \"Anxiety\")\n",
    "depression_model, depression_report, depression_matrix = train_svm(X_depression_scaled, y_depression, \"Depression\")\n",
    "\n",
    "stress_report, anxiety_report, depression_report\n"
   ]
  },
  {
   "cell_type": "code",
   "execution_count": 12,
   "metadata": {},
   "outputs": [
    {
     "data": {
      "text/plain": [
       "['svm_depression_model.pkl']"
      ]
     },
     "execution_count": 12,
     "metadata": {},
     "output_type": "execute_result"
    }
   ],
   "source": [
    "import joblib\n",
    "\n",
    "# Save each model to disk\n",
    "joblib.dump(stress_model, \"svm_stress_model.pkl\")\n",
    "joblib.dump(anxiety_model, \"svm_anxiety_model.pkl\")\n",
    "joblib.dump(depression_model, \"svm_depression_model.pkl\")\n"
   ]
  },
  {
   "cell_type": "code",
   "execution_count": 13,
   "metadata": {},
   "outputs": [
    {
     "name": "stdout",
     "output_type": "stream",
     "text": [
      "Fitting 5 folds for each of 27 candidates, totalling 135 fits\n"
     ]
    },
    {
     "data": {
      "text/plain": [
       "({'C': 1, 'gamma': 'scale', 'kernel': 'linear'}, np.float64(1.0))"
      ]
     },
     "execution_count": 13,
     "metadata": {},
     "output_type": "execute_result"
    }
   ],
   "source": [
    "from sklearn.model_selection import GridSearchCV\n",
    "\n",
    "# Define parameter grid\n",
    "param_grid = {\n",
    "    'C': [0.1, 1, 10],\n",
    "    'gamma': ['scale', 0.1, 0.01],\n",
    "    'kernel': ['rbf', 'poly', 'linear']\n",
    "}\n",
    "\n",
    "# Function to run GridSearchCV\n",
    "def optimize_svm(X, y):\n",
    "    svc = SVC()\n",
    "    grid = GridSearchCV(svc, param_grid, cv=5, verbose=2, n_jobs=-1)\n",
    "    grid.fit(X, y)\n",
    "    return grid.best_estimator_, grid.best_params_, grid.best_score_\n",
    "\n",
    "# Run optimization for Stress (as an example)\n",
    "best_stress_model, best_stress_params, best_stress_score = optimize_svm(X_stress_scaled, y_stress)\n",
    "\n",
    "best_stress_params, best_stress_score\n"
   ]
  },
  {
   "cell_type": "code",
   "execution_count": 15,
   "metadata": {},
   "outputs": [
    {
     "name": "stdout",
     "output_type": "stream",
     "text": [
      "Fitting 5 folds for each of 27 candidates, totalling 135 fits\n",
      "Fitting 5 folds for each of 27 candidates, totalling 135 fits\n",
      "Fitting 5 folds for each of 27 candidates, totalling 135 fits\n"
     ]
    },
    {
     "data": {
      "text/plain": [
       "['svm_depression_model_optimized.pkl']"
      ]
     },
     "execution_count": 15,
     "metadata": {},
     "output_type": "execute_result"
    }
   ],
   "source": [
    "from sklearn.svm import SVC\n",
    "from sklearn.model_selection import GridSearchCV\n",
    "from sklearn.preprocessing import StandardScaler\n",
    "from sklearn.model_selection import train_test_split\n",
    "import pandas as pd\n",
    "\n",
    "\n",
    "# Define question sets\n",
    "stress_cols = [f\"Q3_{i}_S{i}\" for i in range(1, 8)]\n",
    "anxiety_cols = [f\"Q3_{i}_A{i-7}\" for i in range(8, 15)]\n",
    "depression_cols = [f\"Q3_{i}_D{i-14}\" for i in range(15, 22)]\n",
    "\n",
    "# Extract features and labels\n",
    "X_stress, y_stress = df[stress_cols], df[\"Stress_Level\"]\n",
    "X_anxiety, y_anxiety = df[anxiety_cols], df[\"Anxiety_Level\"]\n",
    "X_depression, y_depression = df[depression_cols], df[\"Depression_Level\"]\n",
    "\n",
    "# Scale features\n",
    "scaler = StandardScaler()\n",
    "X_stress = scaler.fit_transform(X_stress)\n",
    "X_anxiety = scaler.fit_transform(X_anxiety)\n",
    "X_depression = scaler.fit_transform(X_depression)\n",
    "\n",
    "# Define parameter grid\n",
    "param_grid = {\n",
    "    'C': [0.1, 1, 10],\n",
    "    'gamma': ['scale', 0.1, 0.01],\n",
    "    'kernel': ['rbf', 'poly', 'linear']\n",
    "}\n",
    "\n",
    "def optimize_svm(X, y):\n",
    "    model = SVC()\n",
    "    grid = GridSearchCV(model, param_grid, cv=5, verbose=2, n_jobs=-1)\n",
    "    grid.fit(X, y)\n",
    "    return grid.best_estimator_, grid.best_params_, grid.best_score_\n",
    "\n",
    "# Run optimization for each model\n",
    "best_stress_model, stress_params, stress_score = optimize_svm(X_stress, y_stress)\n",
    "best_anxiety_model, anxiety_params, anxiety_score = optimize_svm(X_anxiety, y_anxiety)\n",
    "best_depression_model, depression_params, depression_score = optimize_svm(X_depression, y_depression)\n",
    "\n",
    "# Save models\n",
    "import joblib\n",
    "joblib.dump(best_stress_model, \"svm_stress_model_optimized.pkl\")\n",
    "joblib.dump(best_anxiety_model, \"svm_anxiety_model_optimized.pkl\")\n",
    "joblib.dump(best_depression_model, \"svm_depression_model_optimized.pkl\")\n"
   ]
  },
  {
   "cell_type": "code",
   "execution_count": 16,
   "metadata": {},
   "outputs": [],
   "source": [
    "import joblib\n",
    "\n",
    "# Load the saved model\n",
    "model = joblib.load(\"svm_stress_model_optimized.pkl\")  # or any other .pkl file\n"
   ]
  },
  {
   "cell_type": "code",
   "execution_count": 18,
   "metadata": {},
   "outputs": [],
   "source": [
    "from sklearn.preprocessing import StandardScaler\n",
    "import pandas as pd\n",
    "\n",
    "\n",
    "\n",
    "# Select the same question columns used for training\n",
    "stress_cols = [f\"Q3_{i}_S{i}\" for i in range(1, 8)]\n",
    "X_stress = df[stress_cols]\n",
    "\n",
    "# Standardize the features (important!)\n",
    "scaler = StandardScaler()\n",
    "X_stress_scaled = scaler.fit_transform(X_stress)\n"
   ]
  },
  {
   "cell_type": "code",
   "execution_count": 19,
   "metadata": {},
   "outputs": [
    {
     "name": "stdout",
     "output_type": "stream",
     "text": [
      "              precision    recall  f1-score   support\n",
      "\n",
      "           1       1.00      1.00      1.00       794\n",
      "           2       1.00      1.00      1.00       422\n",
      "           3       1.00      1.00      1.00       354\n",
      "           4       1.00      1.00      1.00       183\n",
      "           5       1.00      1.00      1.00        59\n",
      "\n",
      "    accuracy                           1.00      1812\n",
      "   macro avg       1.00      1.00      1.00      1812\n",
      "weighted avg       1.00      1.00      1.00      1812\n",
      "\n"
     ]
    }
   ],
   "source": [
    "# True labels\n",
    "y_stress = df[\"Stress_Level\"]\n",
    "\n",
    "# Predict\n",
    "y_pred = model.predict(X_stress_scaled)\n",
    "\n",
    "# Evaluate\n",
    "from sklearn.metrics import classification_report\n",
    "print(classification_report(y_stress, y_pred))\n"
   ]
  },
  {
   "cell_type": "code",
   "execution_count": null,
   "metadata": {},
   "outputs": [
    {
     "name": "stdout",
     "output_type": "stream",
     "text": [
      "Predicted Stress Level: 2\n"
     ]
    },
    {
     "name": "stderr",
     "output_type": "stream",
     "text": [
      "c:\\Capstone_project_(8th sem)\\MindSight\\.venv\\Lib\\site-packages\\sklearn\\utils\\validation.py:2739: UserWarning: X does not have valid feature names, but StandardScaler was fitted with feature names\n",
      "  warnings.warn(\n"
     ]
    }
   ],
   "source": [
    "\n",
    "sample = [[3, 3, 0, 0, 0, 0, 3]]\n",
    "sample_scaled = scaler.transform(sample)\n",
    "prediction = model.predict(sample_scaled)\n",
    "\n",
    "print(\"Predicted Stress Level:\", prediction[0])\n"
   ]
  },
  {
   "cell_type": "code",
   "execution_count": 22,
   "metadata": {},
   "outputs": [
    {
     "name": "stdout",
     "output_type": "stream",
     "text": [
      "🔍 Anxiety Model Classification Report:\n",
      "\n",
      "              precision    recall  f1-score   support\n",
      "\n",
      "           1       1.00      1.00      1.00       739\n",
      "           2       1.00      1.00      1.00       364\n",
      "           3       1.00      1.00      1.00       328\n",
      "           4       1.00      1.00      1.00       261\n",
      "           5       1.00      1.00      1.00       120\n",
      "\n",
      "    accuracy                           1.00      1812\n",
      "   macro avg       1.00      1.00      1.00      1812\n",
      "weighted avg       1.00      1.00      1.00      1812\n",
      "\n"
     ]
    }
   ],
   "source": [
    "\n",
    "\n",
    "# Load the optimized anxiety model\n",
    "model = joblib.load(\"svm_anxiety_model_optimized.pkl\")\n",
    "\n",
    "\n",
    "# Extract Anxiety question columns (Q3_8 to Q3_14)\n",
    "anxiety_cols = [f\"Q3_{i}_A{i-7}\" for i in range(8, 15)]\n",
    "X_anxiety = df[anxiety_cols]\n",
    "y_anxiety = df[\"Anxiety_Level\"]\n",
    "\n",
    "# Standardize features (same as during training)\n",
    "scaler = StandardScaler()\n",
    "X_anxiety_scaled = scaler.fit_transform(X_anxiety)\n",
    "\n",
    "# Predict using the loaded model\n",
    "y_pred = model.predict(X_anxiety_scaled)\n",
    "\n",
    "# Evaluate the predictions\n",
    "print(\"🔍 Anxiety Model Classification Report:\\n\")\n",
    "print(classification_report(y_anxiety, y_pred))\n"
   ]
  },
  {
   "cell_type": "code",
   "execution_count": 29,
   "metadata": {},
   "outputs": [
    {
     "name": "stdout",
     "output_type": "stream",
     "text": [
      "\n",
      "Predicted Anxiety Level for sample input: 2\n"
     ]
    },
    {
     "name": "stderr",
     "output_type": "stream",
     "text": [
      "c:\\Capstone_project_(8th sem)\\MindSight\\.venv\\Lib\\site-packages\\sklearn\\utils\\validation.py:2739: UserWarning: X does not have valid feature names, but StandardScaler was fitted with feature names\n",
      "  warnings.warn(\n"
     ]
    }
   ],
   "source": [
    "# Example: A sample user who answered \"2\" (OFTEN) to all anxiety questions\n",
    "sample_input = [[1, 2, 0, 1, 0, 0, 0]]  # 7 anxiety questions\n",
    "sample_scaled = scaler.transform(sample_input)\n",
    "predicted_level = model.predict(sample_scaled)\n",
    "\n",
    "print(\"\\nPredicted Anxiety Level for sample input:\", predicted_level[0])\n"
   ]
  },
  {
   "cell_type": "code",
   "execution_count": 30,
   "metadata": {},
   "outputs": [
    {
     "name": "stdout",
     "output_type": "stream",
     "text": [
      "🧠 Depression Model Classification Report:\n",
      "\n",
      "              precision    recall  f1-score   support\n",
      "\n",
      "           1       1.00      1.00      1.00       684\n",
      "           2       1.00      1.00      1.00       371\n",
      "           3       1.00      1.00      1.00       319\n",
      "           4       1.00      1.00      1.00       273\n",
      "           5       1.00      1.00      1.00       165\n",
      "\n",
      "    accuracy                           1.00      1812\n",
      "   macro avg       1.00      1.00      1.00      1812\n",
      "weighted avg       1.00      1.00      1.00      1812\n",
      "\n"
     ]
    }
   ],
   "source": [
    "\n",
    "# Load the optimized depression model\n",
    "model = joblib.load(\"svm_depression_model_optimized.pkl\")\n",
    "\n",
    "\n",
    "\n",
    "# Extract Depression question columns (Q3_15 to Q3_21)\n",
    "depression_cols = [f\"Q3_{i}_D{i-14}\" for i in range(15, 22)]\n",
    "X_depression = df[depression_cols]\n",
    "y_depression = df[\"Depression_Level\"]\n",
    "\n",
    "# Standardize features (same as during training)\n",
    "scaler = StandardScaler()\n",
    "X_depression_scaled = scaler.fit_transform(X_depression)\n",
    "\n",
    "# Predict using the loaded model\n",
    "y_pred = model.predict(X_depression_scaled)\n",
    "\n",
    "# Evaluate the predictions\n",
    "print(\"🧠 Depression Model Classification Report:\\n\")\n",
    "print(classification_report(y_depression, y_pred))\n"
   ]
  },
  {
   "cell_type": "code",
   "execution_count": 41,
   "metadata": {},
   "outputs": [
    {
     "name": "stdout",
     "output_type": "stream",
     "text": [
      "\n",
      "Predicted Depression Level for sample input: 3\n"
     ]
    },
    {
     "name": "stderr",
     "output_type": "stream",
     "text": [
      "c:\\Capstone_project_(8th sem)\\MindSight\\.venv\\Lib\\site-packages\\sklearn\\utils\\validation.py:2739: UserWarning: X does not have valid feature names, but StandardScaler was fitted with feature names\n",
      "  warnings.warn(\n"
     ]
    }
   ],
   "source": [
    "# Example: A sample user who answered \"1\" (SOMETIMES) to all depression questions\n",
    "sample_input = [[1, 3, 1, 1, 1, 1, 1]]  # 7 depression questions\n",
    "sample_scaled = scaler.transform(sample_input)\n",
    "predicted_level = model.predict(sample_scaled)\n",
    "\n",
    "print(\"\\nPredicted Depression Level for sample input:\", predicted_level[0])\n"
   ]
  },
  {
   "cell_type": "markdown",
   "metadata": {},
   "source": [
    "different data set"
   ]
  },
  {
   "cell_type": "code",
   "execution_count": null,
   "metadata": {},
   "outputs": [
    {
     "name": "stdout",
     "output_type": "stream",
     "text": [
      "🧠 Depression Model Classification Report:\n",
      "\n",
      "              precision    recall  f1-score   support\n",
      "\n",
      "           1       1.00      1.00      1.00       684\n",
      "           2       1.00      0.99      1.00       371\n",
      "           3       0.99      0.98      0.98       319\n",
      "           4       0.97      0.97      0.97       273\n",
      "           5       0.95      0.99      0.97       165\n",
      "\n",
      "    accuracy                           0.99      1812\n",
      "   macro avg       0.98      0.99      0.98      1812\n",
      "weighted avg       0.99      0.99      0.99      1812\n",
      "\n"
     ]
    }
   ],
   "source": [
    "model = joblib.load(\"svm_depression_model.pkl\")\n",
    "\n",
    "\n",
    "\n",
    "# Extract Depression question columns (Q3_15 to Q3_21)\n",
    "depression_cols = [f\"Q3_{i}_D{i-14}\" for i in range(15, 22)]\n",
    "X_depression = df[depression_cols]\n",
    "y_depression = df[\"Depression_Level\"]\n",
    "\n",
    "# Standardize features (same as during training)\n",
    "scaler = StandardScaler()\n",
    "X_depression_scaled = scaler.fit_transform(X_depression)\n",
    "\n",
    "# Predict using the loaded model\n",
    "y_pred = model.predict(X_depression_scaled)\n",
    "\n",
    "# Evaluate the predictions\n",
    "print(\"🧠 Depression Model Classification Report:\\n\")\n",
    "print(classification_report(y_depression, y_pred))"
   ]
  },
  {
   "cell_type": "code",
   "execution_count": 47,
   "metadata": {},
   "outputs": [
    {
     "name": "stdout",
     "output_type": "stream",
     "text": [
      "\n",
      "Predicted Depression Level for sample input: 2\n"
     ]
    },
    {
     "name": "stderr",
     "output_type": "stream",
     "text": [
      "c:\\Capstone_project_(8th sem)\\MindSight\\.venv\\Lib\\site-packages\\sklearn\\utils\\validation.py:2739: UserWarning: X does not have valid feature names, but StandardScaler was fitted with feature names\n",
      "  warnings.warn(\n"
     ]
    }
   ],
   "source": [
    "sample_input = [[0, 3, 2, 1, 0, 0, 1]]  # 7 depression questions\n",
    "sample_scaled = scaler.transform(sample_input)\n",
    "predicted_level = model.predict(sample_scaled)\n",
    "\n",
    "print(\"\\nPredicted Depression Level for sample input:\", predicted_level[0])\n"
   ]
  }
 ],
 "metadata": {
  "kernelspec": {
   "display_name": ".venv",
   "language": "python",
   "name": "python3"
  },
  "language_info": {
   "codemirror_mode": {
    "name": "ipython",
    "version": 3
   },
   "file_extension": ".py",
   "mimetype": "text/x-python",
   "name": "python",
   "nbconvert_exporter": "python",
   "pygments_lexer": "ipython3",
   "version": "3.12.2"
  }
 },
 "nbformat": 4,
 "nbformat_minor": 2
}
